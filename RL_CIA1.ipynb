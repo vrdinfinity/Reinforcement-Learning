{
 "cells": [
  {
   "cell_type": "markdown",
   "metadata": {},
   "source": [
    "# RL CIA-1 21011101136\n",
    "# Contextual Bandit-Based Vehicle Recommendation System"
   ]
  },
  {
   "cell_type": "code",
   "execution_count": 1,
   "metadata": {},
   "outputs": [],
   "source": [
    "import numpy as np\n",
    "import pandas as pd\n",
    "from sklearn.preprocessing import LabelEncoder\n",
    "from collections import defaultdict\n",
    "import random"
   ]
  },
  {
   "cell_type": "markdown",
   "metadata": {},
   "source": [
    "## Initialize Vehicle Options and User Profiles(Assuming a small dataset of vehicle options and mock user data)"
   ]
  },
  {
   "cell_type": "code",
   "execution_count": 2,
   "metadata": {},
   "outputs": [],
   "source": [
    "vehicles = ['Sedan', 'SUV', 'Truck', 'Convertible', 'Hatchback']\n",
    "num_vehicles = len(vehicles)"
   ]
  },
  {
   "cell_type": "code",
   "execution_count": 3,
   "metadata": {},
   "outputs": [
    {
     "data": {
      "text/plain": [
       "LabelEncoder()"
      ]
     },
     "execution_count": 3,
     "metadata": {},
     "output_type": "execute_result"
    }
   ],
   "source": [
    "label_encoder = LabelEncoder()\n",
    "label_encoder.fit(vehicles)"
   ]
  },
  {
   "cell_type": "code",
   "execution_count": 4,
   "metadata": {},
   "outputs": [],
   "source": [
    "users = [\n",
    "    {'user_id': 1, 'age': 25, 'location': 'urban', 'preference': 'SUV'},\n",
    "    {'user_id': 2, 'age': 35, 'location': 'suburban', 'preference': 'Sedan'},\n",
    "    {'user_id': 3, 'age': 45, 'location': 'rural', 'preference': 'Truck'}\n",
    "]"
   ]
  },
  {
   "cell_type": "code",
   "execution_count": 5,
   "metadata": {},
   "outputs": [],
   "source": [
    "for user in users:\n",
    "    user['preference'] = label_encoder.transform([user['preference']])[0]\n",
    "\n",
    "location_encoder = LabelEncoder()\n",
    "for user in users:\n",
    "    user['location'] = location_encoder.fit_transform([user['location']])[0]"
   ]
  },
  {
   "cell_type": "markdown",
   "metadata": {},
   "source": [
    "## Contextual Bandit Setup"
   ]
  },
  {
   "cell_type": "code",
   "execution_count": 6,
   "metadata": {},
   "outputs": [],
   "source": [
    "vehicle_rewards = defaultdict(int)\n",
    "vehicle_counts = defaultdict(int)\n",
    "epsilon = 0.1"
   ]
  },
  {
   "cell_type": "markdown",
   "metadata": {},
   "source": [
    "## Recommendation Function with Epsilon-Greedy Strategy"
   ]
  },
  {
   "cell_type": "code",
   "execution_count": 7,
   "metadata": {},
   "outputs": [],
   "source": [
    "def recommend_vehicle(user_context):\n",
    "    if random.random() < epsilon:\n",
    "        chosen_vehicle = random.choice(vehicles)\n",
    "    else:\n",
    "        avg_rewards = {vehicle: (vehicle_rewards[vehicle] / (vehicle_counts[vehicle] + 1)) for vehicle in vehicles}\n",
    "        chosen_vehicle = max(avg_rewards, key=avg_rewards.get)\n",
    "    return chosen_vehicle"
   ]
  },
  {
   "cell_type": "markdown",
   "metadata": {},
   "source": [
    "## Collect Feedback and Update Rewards"
   ]
  },
  {
   "cell_type": "code",
   "execution_count": 8,
   "metadata": {},
   "outputs": [],
   "source": [
    "def update_rewards(vehicle, reward):\n",
    "    vehicle_rewards[vehicle] += reward\n",
    "    vehicle_counts[vehicle] += 1"
   ]
  },
  {
   "cell_type": "markdown",
   "metadata": {},
   "source": [
    "## Simulate User Interactions"
   ]
  },
  {
   "cell_type": "code",
   "execution_count": 9,
   "metadata": {},
   "outputs": [],
   "source": [
    "num_iterations = 100\n",
    "\n",
    "for i in range(num_iterations):\n",
    "    user = random.choice(users)\n",
    "\n",
    "    recommended_vehicle = recommend_vehicle(user)\n",
    "\n",
    "    reward = 1 if user['preference'] == label_encoder.transform([recommended_vehicle])[0] else 0\n",
    "\n",
    "    update_rewards(recommended_vehicle, reward)"
   ]
  },
  {
   "cell_type": "markdown",
   "metadata": {},
   "source": [
    "## Display Results"
   ]
  },
  {
   "cell_type": "code",
   "execution_count": 10,
   "metadata": {},
   "outputs": [
    {
     "name": "stdout",
     "output_type": "stream",
     "text": [
      "Final cumulative rewards for each vehicle:\n",
      "Sedan: 17 rewards, 82 trials\n",
      "SUV: 6 rewards, 11 trials\n",
      "Truck: 0 rewards, 2 trials\n",
      "Convertible: 0 rewards, 4 trials\n",
      "Hatchback: 0 rewards, 1 trials\n"
     ]
    }
   ],
   "source": [
    "print(\"Final cumulative rewards for each vehicle:\")\n",
    "for vehicle in vehicles:\n",
    "    print(f\"{vehicle}: {vehicle_rewards[vehicle]} rewards, {vehicle_counts[vehicle]} trials\")"
   ]
  },
  {
   "cell_type": "markdown",
   "metadata": {},
   "source": [
    "## Recommendation for the User"
   ]
  },
  {
   "cell_type": "code",
   "execution_count": 11,
   "metadata": {},
   "outputs": [
    {
     "name": "stdout",
     "output_type": "stream",
     "text": [
      "Recommended vehicle for User 1: SUV\n"
     ]
    }
   ],
   "source": [
    "def suggest_best_vehicle(user):\n",
    "    \"\"\"\n",
    "    Suggests the best vehicle for a given user based on their context and past feedback.\n",
    "    \n",
    "    Parameters:\n",
    "    user (dict): A dictionary containing user context information such as 'preference'.\n",
    "    \n",
    "    Returns:\n",
    "    str: The recommended vehicle model.\n",
    "    \"\"\"\n",
    "    avg_rewards = {vehicle: (vehicle_rewards[vehicle] / (vehicle_counts[vehicle] + 1)) for vehicle in vehicles}\n",
    "\n",
    "    preferred_vehicle = label_encoder.inverse_transform([user['preference']])[0]\n",
    "\n",
    "    if avg_rewards[preferred_vehicle] >= max(avg_rewards.values()):\n",
    "        return preferred_vehicle\n",
    "    else:\n",
    "        best_vehicle = max(avg_rewards, key=avg_rewards.get)\n",
    "        return best_vehicle\n",
    "\n",
    "user = {'user_id': 1, 'age': 25, 'location': 'urban', 'preference': label_encoder.transform(['SUV'])[0]}\n",
    "recommended_vehicle = suggest_best_vehicle(user)\n",
    "print(f\"Recommended vehicle for User {user['user_id']}: {recommended_vehicle}\")"
   ]
  },
  {
   "cell_type": "code",
   "execution_count": null,
   "metadata": {},
   "outputs": [],
   "source": []
  }
 ],
 "metadata": {
  "colab": {
   "provenance": []
  },
  "kernelspec": {
   "display_name": "Python 3 (ipykernel)",
   "language": "python",
   "name": "python3"
  },
  "language_info": {
   "codemirror_mode": {
    "name": "ipython",
    "version": 3
   },
   "file_extension": ".py",
   "mimetype": "text/x-python",
   "name": "python",
   "nbconvert_exporter": "python",
   "pygments_lexer": "ipython3",
   "version": "3.9.7"
  }
 },
 "nbformat": 4,
 "nbformat_minor": 4
}
